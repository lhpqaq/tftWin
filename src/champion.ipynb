{
 "cells": [
  {
   "cell_type": "code",
   "execution_count": 1,
   "id": "3c09c937",
   "metadata": {},
   "outputs": [],
   "source": [
    "from selenium import webdriver\n",
    "from selenium.webdriver.common.by import By\n",
    "import json\n",
    "url = \"https://lol.qq.com/tft/#/champion\"\n",
    "driver = None"
   ]
  },
  {
   "cell_type": "code",
   "execution_count": 2,
   "id": "7b09bdf4",
   "metadata": {},
   "outputs": [],
   "source": [
    "class Champion(object):\n",
    "    def __init__(self,name,cost,synergy):\n",
    "        self.name=name\n",
    "        self.cost=cost\n",
    "        self.sy=synergy"
   ]
  },
  {
   "cell_type": "code",
   "execution_count": 3,
   "id": "221af6d9",
   "metadata": {},
   "outputs": [],
   "source": [
    "def get():\n",
    "    global driver\n",
    "    driver = webdriver.Chrome()\n",
    "    driver.get(url)\n",
    "    champ=driver.find_elements(By.CLASS_NAME,'champion-item-big')\n",
    "    return champ"
   ]
  },
  {
   "cell_type": "code",
   "execution_count": 4,
   "id": "cdfdd1cf",
   "metadata": {},
   "outputs": [],
   "source": [
    "def fun():\n",
    "    champs = get()\n",
    "    a = []\n",
    "    for champ in champs:\n",
    "        name = champ.find_element(By.CLASS_NAME,'name').text\n",
    "        cost = champ.find_element(By.CLASS_NAME,'price').text[0]\n",
    "        cost = int(cost)\n",
    "        sys = champ.find_elements(By.CLASS_NAME,'race-job-name')\n",
    "        sy=[]\n",
    "        for i in sys:\n",
    "            sy.append(i.text)\n",
    "        ch = Champion(name,cost,sy)\n",
    "        a.append(ch)\n",
    "    return a"
   ]
  },
  {
   "cell_type": "code",
   "execution_count": 5,
   "id": "ba7aeda1",
   "metadata": {},
   "outputs": [],
   "source": [
    "a = fun()"
   ]
  },
  {
   "cell_type": "code",
   "execution_count": 6,
   "id": "ea24f131",
   "metadata": {},
   "outputs": [],
   "source": [
    "dic = {}\n",
    "index = 0\n",
    "for i in a:\n",
    "    champ = {}\n",
    "    champ['name']=i.name\n",
    "    champ['cost']=i.cost\n",
    "    champ['sy']=i.sy\n",
    "    dic[index]=champ    \n",
    "    index += 1"
   ]
  },
  {
   "cell_type": "code",
   "execution_count": 7,
   "id": "55ae2b97",
   "metadata": {},
   "outputs": [
    {
     "name": "stdout",
     "output_type": "stream",
     "text": [
      "写入文件完成...\n"
     ]
    }
   ],
   "source": [
    "#json_str = json.dumps(dic)\n",
    "with open(\"../json/champions.json\",\"w\",encoding='utf-8') as f:\n",
    "    json.dump(dic,f)\n",
    "    print(\"写入文件完成...\")"
   ]
  },
  {
   "cell_type": "code",
   "execution_count": 8,
   "id": "900abfdb",
   "metadata": {},
   "outputs": [],
   "source": [
    "with open(\"../json/champions.json\",'r',encoding='utf-8') as load_f:\n",
    "    load_dict = json.load(load_f)\n",
    "    #print(load_dict)"
   ]
  },
  {
   "cell_type": "code",
   "execution_count": 9,
   "id": "71c8477c",
   "metadata": {},
   "outputs": [],
   "source": [
    "a = []\n",
    "for i in range(len(load_dict)):\n",
    "    t = load_dict[str(i)]\n",
    "    name = t['name']\n",
    "    cost = t['cost']\n",
    "    sy = t['sy']\n",
    "    t = Champion(name,cost,sy)\n",
    "    a.append(t)"
   ]
  },
  {
   "cell_type": "code",
   "execution_count": 10,
   "id": "e985e216",
   "metadata": {},
   "outputs": [
    {
     "data": {
      "text/plain": [
       "'卡牌大师 崔斯特'"
      ]
     },
     "execution_count": 10,
     "metadata": {},
     "output_type": "execute_result"
    }
   ],
   "source": [
    "a[0].name"
   ]
  }
 ],
 "metadata": {
  "kernelspec": {
   "display_name": "Python 3 (ipykernel)",
   "language": "python",
   "name": "python3"
  },
  "language_info": {
   "codemirror_mode": {
    "name": "ipython",
    "version": 3
   },
   "file_extension": ".py",
   "mimetype": "text/x-python",
   "name": "python",
   "nbconvert_exporter": "python",
   "pygments_lexer": "ipython3",
   "version": "3.8.0"
  }
 },
 "nbformat": 4,
 "nbformat_minor": 5
}
